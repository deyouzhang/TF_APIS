{
 "cells": [
  {
   "cell_type": "code",
   "execution_count": 1,
   "metadata": {},
   "outputs": [],
   "source": [
    "import tensorflow as tf"
   ]
  },
  {
   "cell_type": "raw",
   "metadata": {},
   "source": [
    "https://www.tensorflow.org/api_docs/python/tf/bitcast?version=nightly\n",
    "\n",
    "tf.bitcast(\n",
    "    input,\n",
    "    type,\n",
    "    name=None\n",
    ")"
   ]
  },
  {
   "cell_type": "code",
   "execution_count": 2,
   "metadata": {},
   "outputs": [],
   "source": [
    "a = [1., 2., 3.] \n",
    "# equality_bitcast = tf.bitcast(a, tf.complex128) \n",
    "\n",
    "# 这个会报错"
   ]
  },
  {
   "cell_type": "code",
   "execution_count": 3,
   "metadata": {},
   "outputs": [
    {
     "name": "stdout",
     "output_type": "stream",
     "text": [
      "tf.Tensor([1.+0.j 2.+0.j 3.+0.j], shape=(3,), dtype=complex128)\n"
     ]
    }
   ],
   "source": [
    "equality_cast = tf.cast(a, tf.complex128) \n",
    "print(equality_cast) "
   ]
  },
  {
   "cell_type": "code",
   "execution_count": 4,
   "metadata": {},
   "outputs": [
    {
     "data": {
      "text/plain": [
       "<tf.Tensor: id=3, shape=(4,), dtype=uint8, numpy=array([255, 255, 255, 255], dtype=uint8)>"
      ]
     },
     "execution_count": 4,
     "metadata": {},
     "output_type": "execute_result"
    }
   ],
   "source": [
    "tf.bitcast(tf.constant(0xffffffff, dtype=tf.uint32), tf.uint8) "
   ]
  },
  {
   "cell_type": "code",
   "execution_count": 5,
   "metadata": {},
   "outputs": [
    {
     "name": "stdout",
     "output_type": "stream",
     "text": [
      "tf.Tensor([False  True  True], shape=(3,), dtype=bool)\n",
      "tf.Tensor([0. 1. 1.], shape=(3,), dtype=float32)\n",
      "tf.Tensor(\n",
      "[[  0   0   0   0]\n",
      " [  0   0 128  63]\n",
      " [  0   0 128  63]], shape=(3, 4), dtype=uint8)\n"
     ]
    }
   ],
   "source": [
    "x = [1., 2., 3.] \n",
    "y = [0., 2., 3.] \n",
    "equality = tf.equal(x,y) \n",
    "equality_cast = tf.cast(equality,tf.float32) \n",
    "equality_bitcast = tf.bitcast(equality_cast,tf.uint8) \n",
    "print(equality) \n",
    "\n",
    "print(equality_cast) \n",
    "\n",
    "print(equality_bitcast) "
   ]
  },
  {
   "cell_type": "code",
   "execution_count": 6,
   "metadata": {},
   "outputs": [],
   "source": [
    "# 没看太明白"
   ]
  },
  {
   "cell_type": "code",
   "execution_count": null,
   "metadata": {},
   "outputs": [],
   "source": []
  },
  {
   "cell_type": "code",
   "execution_count": null,
   "metadata": {},
   "outputs": [],
   "source": []
  },
  {
   "cell_type": "code",
   "execution_count": null,
   "metadata": {},
   "outputs": [],
   "source": []
  },
  {
   "cell_type": "code",
   "execution_count": null,
   "metadata": {},
   "outputs": [],
   "source": []
  },
  {
   "cell_type": "code",
   "execution_count": null,
   "metadata": {},
   "outputs": [],
   "source": []
  }
 ],
 "metadata": {
  "kernelspec": {
   "display_name": "Python 3",
   "language": "python",
   "name": "python3"
  },
  "language_info": {
   "codemirror_mode": {
    "name": "ipython",
    "version": 3
   },
   "file_extension": ".py",
   "mimetype": "text/x-python",
   "name": "python",
   "nbconvert_exporter": "python",
   "pygments_lexer": "ipython3",
   "version": "3.7.5"
  },
  "toc": {
   "base_numbering": 1,
   "nav_menu": {},
   "number_sections": true,
   "sideBar": true,
   "skip_h1_title": false,
   "title_cell": "Table of Contents",
   "title_sidebar": "Contents",
   "toc_cell": false,
   "toc_position": {},
   "toc_section_display": true,
   "toc_window_display": false
  }
 },
 "nbformat": 4,
 "nbformat_minor": 2
}
