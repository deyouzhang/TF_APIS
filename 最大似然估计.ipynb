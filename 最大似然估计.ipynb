{
 "cells": [
  {
   "cell_type": "code",
   "execution_count": 1,
   "metadata": {},
   "outputs": [],
   "source": [
    "# # https://mlln.cn/2019/01/24/%E6%95%B0%E5%AD%A6%E5%B0%8F%E7%99%BD%E7%94%A8python%E5%81%9A%E6%9E%81%E5%A4%A7%E4%BC%BC%E7%84%B6%E4%BC%B0%E8%AE%A1MLE/"
   ]
  },
  {
   "cell_type": "code",
   "execution_count": 2,
   "metadata": {},
   "outputs": [],
   "source": [
    "from scipy.stats import norm"
   ]
  },
  {
   "cell_type": "code",
   "execution_count": 3,
   "metadata": {},
   "outputs": [
    {
     "data": {
      "text/plain": [
       "0.3989422804014327"
      ]
     },
     "execution_count": 3,
     "metadata": {},
     "output_type": "execute_result"
    }
   ],
   "source": [
    "norm.pdf(3, 3, 1)  # 概率密度函数 "
   ]
  },
  {
   "cell_type": "code",
   "execution_count": 4,
   "metadata": {},
   "outputs": [
    {
     "data": {
      "text/plain": [
       "0.03989422804014327"
      ]
     },
     "execution_count": 4,
     "metadata": {},
     "output_type": "execute_result"
    }
   ],
   "source": [
    "norm.pdf(3, 3, 10)"
   ]
  },
  {
   "cell_type": "code",
   "execution_count": 5,
   "metadata": {},
   "outputs": [
    {
     "data": {
      "text/plain": [
       "0.3989422804014327"
      ]
     },
     "execution_count": 5,
     "metadata": {},
     "output_type": "execute_result"
    }
   ],
   "source": [
    "norm.pdf(2, 2, 1)"
   ]
  },
  {
   "cell_type": "code",
   "execution_count": 6,
   "metadata": {},
   "outputs": [
    {
     "data": {
      "text/plain": [
       "1.4867195147342979e-06"
      ]
     },
     "execution_count": 6,
     "metadata": {},
     "output_type": "execute_result"
    }
   ],
   "source": [
    "norm.pdf(7, 2, 1)"
   ]
  },
  {
   "cell_type": "code",
   "execution_count": 7,
   "metadata": {},
   "outputs": [
    {
     "data": {
      "text/plain": [
       "0.02699548325659403"
      ]
     },
     "execution_count": 7,
     "metadata": {},
     "output_type": "execute_result"
    }
   ],
   "source": [
    "norm.pdf(3, 7, 2)  # u = 7, sigma = 2"
   ]
  },
  {
   "cell_type": "code",
   "execution_count": 8,
   "metadata": {},
   "outputs": [
    {
     "data": {
      "text/plain": [
       "5.931152735254122e-07"
      ]
     },
     "execution_count": 8,
     "metadata": {},
     "output_type": "execute_result"
    }
   ],
   "source": [
    "norm.pdf(2, 2, 1) * norm.pdf(7, 2, 1)"
   ]
  },
  {
   "cell_type": "code",
   "execution_count": 9,
   "metadata": {},
   "outputs": [
    {
     "data": {
      "text/plain": [
       "5.931152735254122e-07"
      ]
     },
     "execution_count": 9,
     "metadata": {},
     "output_type": "execute_result"
    }
   ],
   "source": [
    "p1 = norm.pdf(2, 2, 1) * norm.pdf(7, 2, 1)\n",
    "p1"
   ]
  },
  {
   "cell_type": "code",
   "execution_count": 10,
   "metadata": {},
   "outputs": [
    {
     "data": {
      "text/plain": [
       "0.0047520868169464775"
      ]
     },
     "execution_count": 10,
     "metadata": {},
     "output_type": "execute_result"
    }
   ],
   "source": [
    "p2 = norm.pdf(2, 3, 2) * norm.pdf(7, 3, 2)\n",
    "p2"
   ]
  },
  {
   "cell_type": "code",
   "execution_count": 11,
   "metadata": {},
   "outputs": [],
   "source": [
    "from sympy import symbols, pi, exp, log\n",
    "from sympy.stats import Probability, Normal"
   ]
  },
  {
   "cell_type": "code",
   "execution_count": 12,
   "metadata": {},
   "outputs": [],
   "source": [
    "# X = [1, 2, 3, 4, 5, 3, 4, 2, 5, 6]\n",
    "X = [0, 0, 0, 0, 1]\n",
    "x = symbols('X')"
   ]
  },
  {
   "cell_type": "code",
   "execution_count": 13,
   "metadata": {},
   "outputs": [
    {
     "data": {
      "text/latex": [
       "$\\displaystyle X$"
      ],
      "text/plain": [
       "X"
      ]
     },
     "execution_count": 13,
     "metadata": {},
     "output_type": "execute_result"
    }
   ],
   "source": [
    "x"
   ]
  },
  {
   "cell_type": "code",
   "execution_count": 14,
   "metadata": {},
   "outputs": [],
   "source": [
    "m, s = symbols('m s')"
   ]
  },
  {
   "cell_type": "code",
   "execution_count": 15,
   "metadata": {},
   "outputs": [
    {
     "data": {
      "text/latex": [
       "$\\displaystyle m$"
      ],
      "text/plain": [
       "m"
      ]
     },
     "execution_count": 15,
     "metadata": {},
     "output_type": "execute_result"
    }
   ],
   "source": [
    "m"
   ]
  },
  {
   "cell_type": "code",
   "execution_count": 16,
   "metadata": {},
   "outputs": [],
   "source": [
    "pdf = 1 / (s * ( 2 * pi) ** 0.5) * exp( - (x-m) ** 2 / (2* s ** 2))"
   ]
  },
  {
   "cell_type": "code",
   "execution_count": 17,
   "metadata": {},
   "outputs": [
    {
     "data": {
      "text/latex": [
       "$\\displaystyle \\log{\\left(\\frac{0.707106781186547 e^{- \\frac{\\left(X - m\\right)^{2}}{2 s^{2}}}}{\\pi^{0.5} s} \\right)}$"
      ],
      "text/plain": [
       "log(0.707106781186547*pi**(-0.5)*exp(-(X - m)**2/(2*s**2))/s)"
      ]
     },
     "execution_count": 17,
     "metadata": {},
     "output_type": "execute_result"
    }
   ],
   "source": [
    "logpdf = log(pdf)\n",
    "logpdf"
   ]
  },
  {
   "cell_type": "code",
   "execution_count": 18,
   "metadata": {},
   "outputs": [
    {
     "data": {
      "text/latex": [
       "$\\displaystyle 4 \\log{\\left(\\frac{0.707106781186547 e^{- \\frac{m^{2}}{2 s^{2}}}}{\\pi^{0.5} s} \\right)} + \\log{\\left(\\frac{0.707106781186547 e^{- \\frac{\\left(1 - m\\right)^{2}}{2 s^{2}}}}{\\pi^{0.5} s} \\right)}$"
      ],
      "text/plain": [
       "4*log(0.707106781186547*pi**(-0.5)*exp(-m**2/(2*s**2))/s) + log(0.707106781186547*pi**(-0.5)*exp(-(1 - m)**2/(2*s**2))/s)"
      ]
     },
     "execution_count": 18,
     "metadata": {},
     "output_type": "execute_result"
    }
   ],
   "source": [
    "logP = 0\n",
    "for xi in X:\n",
    "    logP += logpdf.subs({x : xi})\n",
    "logP"
   ]
  },
  {
   "cell_type": "code",
   "execution_count": 19,
   "metadata": {},
   "outputs": [],
   "source": [
    "from sympy import diff"
   ]
  },
  {
   "cell_type": "code",
   "execution_count": 20,
   "metadata": {},
   "outputs": [
    {
     "data": {
      "text/latex": [
       "$\\displaystyle - \\frac{4.0 m}{s^{2}} - \\frac{0.5 \\left(2 m - 2\\right)}{s^{2}}$"
      ],
      "text/plain": [
       "-4.0*m/s**2 - 0.5*(2*m - 2)/s**2"
      ]
     },
     "execution_count": 20,
     "metadata": {},
     "output_type": "execute_result"
    }
   ],
   "source": [
    "logp_diff_m = diff(logP, m)\n",
    "logp_diff_m"
   ]
  },
  {
   "cell_type": "code",
   "execution_count": 21,
   "metadata": {},
   "outputs": [
    {
     "data": {
      "text/latex": [
       "$\\displaystyle 1.4142135623731 \\pi^{0.5} s \\left(- \\frac{0.707106781186547 e^{- \\frac{\\left(1 - m\\right)^{2}}{2 s^{2}}}}{\\pi^{0.5} s^{2}} + \\frac{0.707106781186547 \\left(1 - m\\right)^{2} e^{- \\frac{\\left(1 - m\\right)^{2}}{2 s^{2}}}}{\\pi^{0.5} s^{4}}\\right) e^{\\frac{\\left(1 - m\\right)^{2}}{2 s^{2}}} + 5.65685424949238 \\pi^{0.5} s \\left(\\frac{0.707106781186547 m^{2} e^{- \\frac{m^{2}}{2 s^{2}}}}{\\pi^{0.5} s^{4}} - \\frac{0.707106781186547 e^{- \\frac{m^{2}}{2 s^{2}}}}{\\pi^{0.5} s^{2}}\\right) e^{\\frac{m^{2}}{2 s^{2}}}$"
      ],
      "text/plain": [
       "1.4142135623731*pi**0.5*s*(-0.707106781186547*pi**(-0.5)*exp(-(1 - m)**2/(2*s**2))/s**2 + 0.707106781186547*pi**(-0.5)*(1 - m)**2*exp(-(1 - m)**2/(2*s**2))/s**4)*exp((1 - m)**2/(2*s**2)) + 5.65685424949238*pi**0.5*s*(0.707106781186547*pi**(-0.5)*m**2*exp(-m**2/(2*s**2))/s**4 - 0.707106781186547*pi**(-0.5)*exp(-m**2/(2*s**2))/s**2)*exp(m**2/(2*s**2))"
      ]
     },
     "execution_count": 21,
     "metadata": {},
     "output_type": "execute_result"
    }
   ],
   "source": [
    "logp_diff_s = diff(logP, s)\n",
    "logp_diff_s"
   ]
  },
  {
   "cell_type": "code",
   "execution_count": 22,
   "metadata": {},
   "outputs": [],
   "source": [
    "from sympy import simplify"
   ]
  },
  {
   "cell_type": "code",
   "execution_count": 23,
   "metadata": {},
   "outputs": [
    {
     "data": {
      "text/latex": [
       "$\\displaystyle \\frac{1.0 - 5.0 m}{s^{2}}$"
      ],
      "text/plain": [
       "(1.0 - 5.0*m)/s**2"
      ]
     },
     "execution_count": 23,
     "metadata": {},
     "output_type": "execute_result"
    }
   ],
   "source": [
    "logp_diff_m = simplify(logp_diff_m)\n",
    "logp_diff_m"
   ]
  },
  {
   "cell_type": "code",
   "execution_count": 24,
   "metadata": {},
   "outputs": [
    {
     "data": {
      "text/latex": [
       "$\\displaystyle \\frac{5.0 m^{2} - 2.0 m - 5.0 s^{2} + 1.0}{s^{3}}$"
      ],
      "text/plain": [
       "(5.0*m**2 - 2.0*m - 5.0*s**2 + 1.0)/s**3"
      ]
     },
     "execution_count": 24,
     "metadata": {},
     "output_type": "execute_result"
    }
   ],
   "source": [
    "logp_diff_s = simplify(logp_diff_s)\n",
    "logp_diff_s"
   ]
  },
  {
   "cell_type": "code",
   "execution_count": 25,
   "metadata": {},
   "outputs": [],
   "source": [
    "from sympy import solve"
   ]
  },
  {
   "cell_type": "code",
   "execution_count": 26,
   "metadata": {},
   "outputs": [
    {
     "data": {
      "text/plain": [
       "[(0.200000000000000, -0.400000000000000),\n",
       " (0.200000000000000, 0.400000000000000)]"
      ]
     },
     "execution_count": 26,
     "metadata": {},
     "output_type": "execute_result"
    }
   ],
   "source": [
    "func = [logp_diff_s, logp_diff_m]\n",
    "solve(func, [m, s])"
   ]
  },
  {
   "cell_type": "code",
   "execution_count": 27,
   "metadata": {},
   "outputs": [],
   "source": [
    "# 意思是说：假设 m s 不知，求出这些数字的分布概率表达式，\n",
    "# 对这个表达式（一系列的乘积）求导，找出\n",
    "# 极值。这个极值时候的 m s 就是最大似然的情况。\n",
    "#　要求极值，就是　导数为 ０ 的时候,所以求导数,当导数为0时，解方程组求出 m 和 s.\n",
    "# 这个解与原数组里的平均值 标准差一致。"
   ]
  },
  {
   "cell_type": "code",
   "execution_count": 28,
   "metadata": {},
   "outputs": [],
   "source": [
    "# 需要背记的有：\n",
    "# norm.pdf方程： pdf = 1 / (s * ( 2 * pi) ** 0.5) * exp( - (x-m) ** 2 / (2* s ** 2))\n",
    "# scipy.stats.norm可以有 norm.pdf,直接解出概率分布函数。norm(value, mean, std)\n",
    "# # sympy.log()， 可以直接求出对数, 是ln 值。\n",
    "# log2()求出的是 以2 为底的对数值。\n",
    "# log10()求出的是 以 10 为底的对数\n",
    "# 似然函数 是个什么鬼？scipy.stats.pdf.sub\n",
    "# sympy.log(pdf).subs({x: xi}) 这里要用xi代入公式里的x。\n",
    "# x = symbols('X') 与 m, s = symbols('m s')是几个意思？\n",
    "# 求偏层数的公式是 sympy.diff(y, x)\n",
    "# 公式化简的方法有 sympy.simplify(y)\n",
    "# 解方程，用 sympy.solve([方程组], [变量组])"
   ]
  },
  {
   "cell_type": "code",
   "execution_count": 29,
   "metadata": {},
   "outputs": [
    {
     "data": {
      "text/latex": [
       "$\\displaystyle 0.993251773010283$"
      ],
      "text/plain": [
       "0.993251773010283"
      ]
     },
     "execution_count": 29,
     "metadata": {},
     "output_type": "execute_result"
    }
   ],
   "source": [
    "import sympy\n",
    "sympy.log(2.7)"
   ]
  },
  {
   "cell_type": "code",
   "execution_count": 30,
   "metadata": {},
   "outputs": [
    {
     "data": {
      "text/plain": [
       "0.9932517730102834"
      ]
     },
     "execution_count": 30,
     "metadata": {},
     "output_type": "execute_result"
    }
   ],
   "source": [
    "import math\n",
    "math.log(2.7)"
   ]
  },
  {
   "cell_type": "code",
   "execution_count": 31,
   "metadata": {},
   "outputs": [
    {
     "data": {
      "text/plain": [
       "0.3010299956639812"
      ]
     },
     "execution_count": 31,
     "metadata": {},
     "output_type": "execute_result"
    }
   ],
   "source": [
    "math.log10(2)"
   ]
  },
  {
   "cell_type": "code",
   "execution_count": 32,
   "metadata": {},
   "outputs": [
    {
     "data": {
      "text/plain": [
       "True"
      ]
     },
     "execution_count": 32,
     "metadata": {},
     "output_type": "execute_result"
    }
   ],
   "source": [
    "sympy.log(2.7) == math.log(2.7) == log(2.7)"
   ]
  },
  {
   "cell_type": "code",
   "execution_count": 33,
   "metadata": {},
   "outputs": [
    {
     "data": {
      "text/latex": [
       "$\\displaystyle 0.993251773010283$"
      ],
      "text/plain": [
       "0.993251773010283"
      ]
     },
     "execution_count": 33,
     "metadata": {},
     "output_type": "execute_result"
    }
   ],
   "source": [
    "log(2.7)"
   ]
  },
  {
   "cell_type": "code",
   "execution_count": 34,
   "metadata": {},
   "outputs": [],
   "source": [
    " y = 2 ** x / 2"
   ]
  },
  {
   "cell_type": "code",
   "execution_count": 35,
   "metadata": {},
   "outputs": [
    {
     "data": {
      "text/latex": [
       "$\\displaystyle 2^{X - 1}$"
      ],
      "text/plain": [
       "2**(X - 1)"
      ]
     },
     "execution_count": 35,
     "metadata": {},
     "output_type": "execute_result"
    }
   ],
   "source": [
    "simplify(y)"
   ]
  },
  {
   "cell_type": "code",
   "execution_count": 36,
   "metadata": {},
   "outputs": [
    {
     "data": {
      "text/latex": [
       "$\\displaystyle 5.0 X$"
      ],
      "text/plain": [
       "5.0*X"
      ]
     },
     "execution_count": 36,
     "metadata": {},
     "output_type": "execute_result"
    }
   ],
   "source": [
    "y = 2 * x /0.4\n",
    "simplify(y)"
   ]
  },
  {
   "cell_type": "code",
   "execution_count": null,
   "metadata": {},
   "outputs": [],
   "source": []
  },
  {
   "cell_type": "code",
   "execution_count": null,
   "metadata": {},
   "outputs": [],
   "source": []
  }
 ],
 "metadata": {
  "kernelspec": {
   "display_name": "Python 3",
   "language": "python",
   "name": "python3"
  },
  "language_info": {
   "codemirror_mode": {
    "name": "ipython",
    "version": 3
   },
   "file_extension": ".py",
   "mimetype": "text/x-python",
   "name": "python",
   "nbconvert_exporter": "python",
   "pygments_lexer": "ipython3",
   "version": "3.7.5"
  },
  "toc": {
   "base_numbering": 1,
   "nav_menu": {},
   "number_sections": true,
   "sideBar": true,
   "skip_h1_title": false,
   "title_cell": "Table of Contents",
   "title_sidebar": "Contents",
   "toc_cell": false,
   "toc_position": {},
   "toc_section_display": true,
   "toc_window_display": false
  }
 },
 "nbformat": 4,
 "nbformat_minor": 2
}
