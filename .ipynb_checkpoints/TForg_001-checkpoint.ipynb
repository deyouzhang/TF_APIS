{
 "cells": [
  {
   "cell_type": "code",
   "execution_count": 1,
   "metadata": {},
   "outputs": [],
   "source": [
    "import tensorflow as tf"
   ]
  },
  {
   "cell_type": "code",
   "execution_count": 2,
   "metadata": {},
   "outputs": [],
   "source": [
    "# 16点41分改一下。"
   ]
  },
  {
   "cell_type": "code",
   "execution_count": 3,
   "metadata": {},
   "outputs": [
    {
     "data": {
      "text/plain": [
       "'MSVC 190024234'"
      ]
     },
     "execution_count": 3,
     "metadata": {},
     "output_type": "execute_result"
    }
   ],
   "source": [
    "tf.__compiler_version__"
   ]
  },
  {
   "cell_type": "code",
   "execution_count": 4,
   "metadata": {},
   "outputs": [
    {
     "data": {
      "text/plain": [
       "'unknown'"
      ]
     },
     "execution_count": 4,
     "metadata": {},
     "output_type": "execute_result"
    }
   ],
   "source": [
    "tf.__git_version__"
   ]
  },
  {
   "cell_type": "code",
   "execution_count": 5,
   "metadata": {},
   "outputs": [
    {
     "ename": "AttributeError",
     "evalue": "module 'tensorflow' has no attribute 'graph_def_version'",
     "output_type": "error",
     "traceback": [
      "\u001b[1;31m---------------------------------------------------------------------------\u001b[0m",
      "\u001b[1;31mAttributeError\u001b[0m                            Traceback (most recent call last)",
      "\u001b[1;32m<ipython-input-5-c1679d11aaaa>\u001b[0m in \u001b[0;36m<module>\u001b[1;34m\u001b[0m\n\u001b[1;32m----> 1\u001b[1;33m \u001b[0mtf\u001b[0m\u001b[1;33m.\u001b[0m\u001b[0mgraph_def_version\u001b[0m\u001b[1;33m\u001b[0m\u001b[1;33m\u001b[0m\u001b[0m\n\u001b[0m",
      "\u001b[1;31mAttributeError\u001b[0m: module 'tensorflow' has no attribute 'graph_def_version'"
     ]
    }
   ],
   "source": [
    "tf.graph_def_version"
   ]
  },
  {
   "cell_type": "code",
   "execution_count": null,
   "metadata": {},
   "outputs": [],
   "source": [
    "tf.version"
   ]
  },
  {
   "cell_type": "code",
   "execution_count": null,
   "metadata": {},
   "outputs": [],
   "source": [
    "tf.__version__"
   ]
  },
  {
   "cell_type": "code",
   "execution_count": null,
   "metadata": {},
   "outputs": [],
   "source": [
    "tf.eye(2)"
   ]
  },
  {
   "cell_type": "code",
   "execution_count": 6,
   "metadata": {},
   "outputs": [
    {
     "data": {
      "text/plain": [
       "<tf.Tensor: id=6, shape=(2, 3), dtype=float32, numpy=\n",
       "array([[1., 0., 0.],\n",
       "       [0., 1., 0.]], dtype=float32)>"
      ]
     },
     "execution_count": 6,
     "metadata": {},
     "output_type": "execute_result"
    }
   ],
   "source": [
    "tf.eye(2, 3)"
   ]
  },
  {
   "cell_type": "code",
   "execution_count": 7,
   "metadata": {},
   "outputs": [],
   "source": [
    "a = tf.eye(2, batch_shape = (2, 4, 4))"
   ]
  },
  {
   "cell_type": "code",
   "execution_count": 8,
   "metadata": {},
   "outputs": [
    {
     "data": {
      "text/plain": [
       "<tf.Tensor: id=10, shape=(2, 4, 4, 2, 2), dtype=float32, numpy=\n",
       "array([[[[[1., 0.],\n",
       "          [0., 1.]],\n",
       "\n",
       "         [[1., 0.],\n",
       "          [0., 1.]],\n",
       "\n",
       "         [[1., 0.],\n",
       "          [0., 1.]],\n",
       "\n",
       "         [[1., 0.],\n",
       "          [0., 1.]]],\n",
       "\n",
       "\n",
       "        [[[1., 0.],\n",
       "          [0., 1.]],\n",
       "\n",
       "         [[1., 0.],\n",
       "          [0., 1.]],\n",
       "\n",
       "         [[1., 0.],\n",
       "          [0., 1.]],\n",
       "\n",
       "         [[1., 0.],\n",
       "          [0., 1.]]],\n",
       "\n",
       "\n",
       "        [[[1., 0.],\n",
       "          [0., 1.]],\n",
       "\n",
       "         [[1., 0.],\n",
       "          [0., 1.]],\n",
       "\n",
       "         [[1., 0.],\n",
       "          [0., 1.]],\n",
       "\n",
       "         [[1., 0.],\n",
       "          [0., 1.]]],\n",
       "\n",
       "\n",
       "        [[[1., 0.],\n",
       "          [0., 1.]],\n",
       "\n",
       "         [[1., 0.],\n",
       "          [0., 1.]],\n",
       "\n",
       "         [[1., 0.],\n",
       "          [0., 1.]],\n",
       "\n",
       "         [[1., 0.],\n",
       "          [0., 1.]]]],\n",
       "\n",
       "\n",
       "\n",
       "       [[[[1., 0.],\n",
       "          [0., 1.]],\n",
       "\n",
       "         [[1., 0.],\n",
       "          [0., 1.]],\n",
       "\n",
       "         [[1., 0.],\n",
       "          [0., 1.]],\n",
       "\n",
       "         [[1., 0.],\n",
       "          [0., 1.]]],\n",
       "\n",
       "\n",
       "        [[[1., 0.],\n",
       "          [0., 1.]],\n",
       "\n",
       "         [[1., 0.],\n",
       "          [0., 1.]],\n",
       "\n",
       "         [[1., 0.],\n",
       "          [0., 1.]],\n",
       "\n",
       "         [[1., 0.],\n",
       "          [0., 1.]]],\n",
       "\n",
       "\n",
       "        [[[1., 0.],\n",
       "          [0., 1.]],\n",
       "\n",
       "         [[1., 0.],\n",
       "          [0., 1.]],\n",
       "\n",
       "         [[1., 0.],\n",
       "          [0., 1.]],\n",
       "\n",
       "         [[1., 0.],\n",
       "          [0., 1.]]],\n",
       "\n",
       "\n",
       "        [[[1., 0.],\n",
       "          [0., 1.]],\n",
       "\n",
       "         [[1., 0.],\n",
       "          [0., 1.]],\n",
       "\n",
       "         [[1., 0.],\n",
       "          [0., 1.]],\n",
       "\n",
       "         [[1., 0.],\n",
       "          [0., 1.]]]]], dtype=float32)>"
      ]
     },
     "execution_count": 8,
     "metadata": {},
     "output_type": "execute_result"
    }
   ],
   "source": [
    "a"
   ]
  },
  {
   "cell_type": "code",
   "execution_count": 9,
   "metadata": {},
   "outputs": [
    {
     "data": {
      "text/plain": [
       "<tf.Tensor: id=12, shape=(3,), dtype=int32, numpy=array([0, 0, 0])>"
      ]
     },
     "execution_count": 9,
     "metadata": {},
     "output_type": "execute_result"
    }
   ],
   "source": [
    "t = tf.constant([1, 2, 3])\n",
    "tf.zeros_like(t)"
   ]
  },
  {
   "cell_type": "code",
   "execution_count": 10,
   "metadata": {},
   "outputs": [
    {
     "data": {
      "text/plain": [
       "<tf.Tensor: id=15, shape=(3,), dtype=int16, numpy=array([0, 0, 0], dtype=int16)>"
      ]
     },
     "execution_count": 10,
     "metadata": {},
     "output_type": "execute_result"
    }
   ],
   "source": [
    "tf.zeros(t.shape, dtype=tf.int16)"
   ]
  },
  {
   "cell_type": "code",
   "execution_count": 11,
   "metadata": {},
   "outputs": [
    {
     "name": "stdout",
     "output_type": "stream",
     "text": [
      "[1 2 3]\r\n"
     ]
    }
   ],
   "source": [
    "tf.print(t)"
   ]
  },
  {
   "cell_type": "code",
   "execution_count": 12,
   "metadata": {},
   "outputs": [
    {
     "data": {
      "text/plain": [
       "array([1, 2, 3])"
      ]
     },
     "execution_count": 12,
     "metadata": {},
     "output_type": "execute_result"
    }
   ],
   "source": [
    "t.numpy()"
   ]
  },
  {
   "cell_type": "code",
   "execution_count": 13,
   "metadata": {},
   "outputs": [
    {
     "name": "stdout",
     "output_type": "stream",
     "text": [
      "[1 2 3]\r\n"
     ]
    }
   ],
   "source": [
    "tfp = tf.print(t)"
   ]
  },
  {
   "cell_type": "code",
   "execution_count": 14,
   "metadata": {},
   "outputs": [
    {
     "data": {
      "text/plain": [
       "NoneType"
      ]
     },
     "execution_count": 14,
     "metadata": {},
     "output_type": "execute_result"
    }
   ],
   "source": [
    "type(tfp)"
   ]
  },
  {
   "cell_type": "code",
   "execution_count": 15,
   "metadata": {},
   "outputs": [
    {
     "ename": "AttributeError",
     "evalue": "'NoneType' object has no attribute 'shape'",
     "output_type": "error",
     "traceback": [
      "\u001b[1;31m---------------------------------------------------------------------------\u001b[0m",
      "\u001b[1;31mAttributeError\u001b[0m                            Traceback (most recent call last)",
      "\u001b[1;32m<ipython-input-15-da436eb5681e>\u001b[0m in \u001b[0;36m<module>\u001b[1;34m\u001b[0m\n\u001b[1;32m----> 1\u001b[1;33m \u001b[0mtfp\u001b[0m\u001b[1;33m.\u001b[0m\u001b[0mshape\u001b[0m\u001b[1;33m\u001b[0m\u001b[1;33m\u001b[0m\u001b[0m\n\u001b[0m",
      "\u001b[1;31mAttributeError\u001b[0m: 'NoneType' object has no attribute 'shape'"
     ]
    }
   ],
   "source": [
    "tfp.shape"
   ]
  },
  {
   "cell_type": "code",
   "execution_count": 16,
   "metadata": {},
   "outputs": [
    {
     "data": {
      "text/plain": [
       "<tf.Tensor: id=24, shape=(3, 5), dtype=float32, numpy=\n",
       "array([[2., 2., 2., 2., 5.],\n",
       "       [2., 5., 2., 2., 2.],\n",
       "       [2., 2., 5., 2., 2.]], dtype=float32)>"
      ]
     },
     "execution_count": 16,
     "metadata": {},
     "output_type": "execute_result"
    }
   ],
   "source": [
    "indices = [4, 1, 2]\n",
    "depth = 5\n",
    "tf.one_hot(indices, depth, on_value = 5., off_value=2., axis= 1)"
   ]
  },
  {
   "cell_type": "code",
   "execution_count": null,
   "metadata": {},
   "outputs": [],
   "source": []
  },
  {
   "cell_type": "code",
   "execution_count": null,
   "metadata": {},
   "outputs": [],
   "source": []
  },
  {
   "cell_type": "code",
   "execution_count": null,
   "metadata": {},
   "outputs": [],
   "source": []
  },
  {
   "cell_type": "code",
   "execution_count": null,
   "metadata": {},
   "outputs": [],
   "source": []
  },
  {
   "cell_type": "code",
   "execution_count": null,
   "metadata": {},
   "outputs": [],
   "source": []
  }
 ],
 "metadata": {
  "kernelspec": {
   "display_name": "Python 3",
   "language": "python",
   "name": "python3"
  },
  "language_info": {
   "codemirror_mode": {
    "name": "ipython",
    "version": 3
   },
   "file_extension": ".py",
   "mimetype": "text/x-python",
   "name": "python",
   "nbconvert_exporter": "python",
   "pygments_lexer": "ipython3",
   "version": "3.7.5"
  },
  "toc": {
   "base_numbering": 1,
   "nav_menu": {},
   "number_sections": true,
   "sideBar": true,
   "skip_h1_title": false,
   "title_cell": "Table of Contents",
   "title_sidebar": "Contents",
   "toc_cell": false,
   "toc_position": {},
   "toc_section_display": true,
   "toc_window_display": false
  }
 },
 "nbformat": 4,
 "nbformat_minor": 2
}
