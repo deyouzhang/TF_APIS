{
 "cells": [
  {
   "cell_type": "raw",
   "metadata": {},
   "source": [
    "20191220\n",
    "today, I begin to mentain my GitHub, and wrote a lot of tf.org api notbook\n",
    "night, I begin to read the book\n",
    "https://www.oreilly.com/library/view/hands-on-machine-learning/9781492032632/\n",
    "\n",
    "\n",
    "Hands-On Machine Learning with Scikit-Learn, Keras, and TensorFlow, 2nd Edition\n",
    "by Aurélien Géron\n",
    "Publisher: O'Reilly Media, Inc.\n",
    "Release Date: September 2019\n",
    "ISBN: 9781492032632\n",
    "\n"
   ]
  }
 ],
 "metadata": {
  "kernelspec": {
   "display_name": "Python 3",
   "language": "python",
   "name": "python3"
  },
  "language_info": {
   "codemirror_mode": {
    "name": "ipython",
    "version": 3
   },
   "file_extension": ".py",
   "mimetype": "text/x-python",
   "name": "python",
   "nbconvert_exporter": "python",
   "pygments_lexer": "ipython3",
   "version": "3.7.4"
  }
 },
 "nbformat": 4,
 "nbformat_minor": 2
}
